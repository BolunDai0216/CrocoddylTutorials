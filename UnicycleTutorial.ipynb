{
 "cells": [
  {
   "cell_type": "code",
   "execution_count": 1,
   "id": "9b475aa8",
   "metadata": {},
   "outputs": [
    {
     "ename": "ImportError",
     "evalue": "/opt/ros/noetic/lib/python3/dist-packages/pinocchio/pinocchio_pywrap.cpython-38-x86_64-linux-gnu.so: undefined symbol: _ZNK3hpp3fcl15ComputeDistanceclERKNS0_11Transform3fES4_RKNS0_15DistanceRequestERNS0_14DistanceResultE",
     "output_type": "error",
     "traceback": [
      "\u001b[0;31m---------------------------------------------------------------------------\u001b[0m",
      "\u001b[0;31mImportError\u001b[0m                               Traceback (most recent call last)",
      "Input \u001b[0;32mIn [1]\u001b[0m, in \u001b[0;36m<cell line: 1>\u001b[0;34m()\u001b[0m\n\u001b[0;32m----> 1\u001b[0m \u001b[38;5;28;01mimport\u001b[39;00m \u001b[38;5;21;01mcrocoddyl\u001b[39;00m\n\u001b[1;32m      2\u001b[0m \u001b[38;5;28;01mimport\u001b[39;00m \u001b[38;5;21;01mnumpy\u001b[39;00m \u001b[38;5;28;01mas\u001b[39;00m \u001b[38;5;21;01mnp\u001b[39;00m\n\u001b[1;32m      3\u001b[0m \u001b[38;5;28;01mimport\u001b[39;00m \u001b[38;5;21;01mmatplotlib\u001b[39;00m\u001b[38;5;21;01m.\u001b[39;00m\u001b[38;5;21;01mpyplot\u001b[39;00m \u001b[38;5;28;01mas\u001b[39;00m \u001b[38;5;21;01mplt\u001b[39;00m\n",
      "File \u001b[0;32m~/miniconda3/envs/robot_env/lib/python3.8/site-packages/crocoddyl/__init__.py:5\u001b[0m, in \u001b[0;36m<module>\u001b[0;34m\u001b[0m\n\u001b[1;32m      2\u001b[0m \u001b[38;5;28;01mfrom\u001b[39;00m \u001b[38;5;21;01m.\u001b[39;00m\u001b[38;5;21;01mlibcrocoddyl_pywrap\u001b[39;00m \u001b[38;5;28;01mimport\u001b[39;00m __version__\n\u001b[1;32m      3\u001b[0m \u001b[38;5;28;01mfrom\u001b[39;00m \u001b[38;5;21;01m.\u001b[39;00m\u001b[38;5;21;01mdeprecation\u001b[39;00m \u001b[38;5;28;01mimport\u001b[39;00m \u001b[38;5;241m*\u001b[39m\n\u001b[0;32m----> 5\u001b[0m \u001b[38;5;28;01mimport\u001b[39;00m \u001b[38;5;21;01mpinocchio\u001b[39;00m\n\u001b[1;32m      6\u001b[0m \u001b[38;5;28;01mimport\u001b[39;00m \u001b[38;5;21;01mnumpy\u001b[39;00m \u001b[38;5;28;01mas\u001b[39;00m \u001b[38;5;21;01mnp\u001b[39;00m\n\u001b[1;32m      7\u001b[0m \u001b[38;5;28;01mimport\u001b[39;00m \u001b[38;5;21;01mtime\u001b[39;00m\n",
      "File \u001b[0;32m/opt/ros/noetic/lib/python3/dist-packages/pinocchio/__init__.py:6\u001b[0m, in \u001b[0;36m<module>\u001b[0;34m\u001b[0m\n\u001b[1;32m      1\u001b[0m \u001b[38;5;66;03m#\u001b[39;00m\n\u001b[1;32m      2\u001b[0m \u001b[38;5;66;03m# Copyright (c) 2015-2020 CNRS INRIA\u001b[39;00m\n\u001b[1;32m      3\u001b[0m \u001b[38;5;66;03m#\u001b[39;00m\n\u001b[1;32m      5\u001b[0m \u001b[38;5;28;01mimport\u001b[39;00m \u001b[38;5;21;01mnumpy\u001b[39;00m\n\u001b[0;32m----> 6\u001b[0m \u001b[38;5;28;01mfrom\u001b[39;00m \u001b[38;5;21;01m.\u001b[39;00m\u001b[38;5;21;01mpinocchio_pywrap\u001b[39;00m \u001b[38;5;28;01mimport\u001b[39;00m \u001b[38;5;241m*\u001b[39m\n\u001b[1;32m      8\u001b[0m \u001b[38;5;28;01mfrom\u001b[39;00m \u001b[38;5;21;01m.\u001b[39;00m\u001b[38;5;21;01mpinocchio_pywrap\u001b[39;00m \u001b[38;5;28;01mimport\u001b[39;00m __version__, __raw_version__\n\u001b[1;32m     10\u001b[0m \u001b[38;5;28;01mfrom\u001b[39;00m \u001b[38;5;21;01m.\u001b[39;00m \u001b[38;5;28;01mimport\u001b[39;00m utils\n",
      "\u001b[0;31mImportError\u001b[0m: /opt/ros/noetic/lib/python3/dist-packages/pinocchio/pinocchio_pywrap.cpython-38-x86_64-linux-gnu.so: undefined symbol: _ZNK3hpp3fcl15ComputeDistanceclERKNS0_11Transform3fES4_RKNS0_15DistanceRequestERNS0_14DistanceResultE"
     ]
    }
   ],
   "source": [
    "import crocoddyl\n",
    "import numpy as np\n",
    "import matplotlib.pyplot as plt"
   ]
  },
  {
   "cell_type": "markdown",
   "id": "a5fda545",
   "metadata": {},
   "source": [
    "The `ActionModelUnicycle()` can be found [here](https://gitlab.iri.upc.edu/jmarti/crocoddyl/-/blob/master/crocoddyl/unicycle.py)\n",
    "\n",
    "```python\n",
    "class ActionModelUnicycle:\n",
    "    def __init__(self):\n",
    "        '''\n",
    "        Transition model is xnext(x,u) = Fx*x + Fu*x.\n",
    "        Cost model is cost(x,u) = 1/2 [x,u].T [Lxx Lxu ; Lxu.T Luu ] [x,u] + [Lx,Lu].T [x,u].\n",
    "        '''\n",
    "        self.State = StateVector(3)\n",
    "        self.nx = self.State.nx\n",
    "        self.ndx = self.State.ndx\n",
    "        self.nu = 2\n",
    "        self.ncost = 5\n",
    "\n",
    "        self.dt = 0.1\n",
    "        self.costWeights = [1, 0.03]\n",
    "        self.unone = np.zeros(self.nu)\n",
    "\n",
    "    def createData(self):\n",
    "        return ActionDataUnicycle(self)\n",
    "    \n",
    "    def calc(model, data, x, u=None):\n",
    "        if u is None: \n",
    "            u = model.unone\n",
    "            \n",
    "        assert(x.shape == (model.nx,) and u.shape == (model.nu,))\n",
    "        assert(data.xnext.shape == (model.nx,))\n",
    "        assert(data.costResiduals.shape == (model.ncost,))\n",
    "        \n",
    "        v, w = u\n",
    "        c, s = np.cos(x[2]), np.sin(x[2])\n",
    "        dx = np.array([v*c, v*s, w])\n",
    "        data.xnext[:] = [x[0]+c*v*model.dt, x[1]+s*v*model.dt, x[2]+w*model.dt]\n",
    "        data.costResiduals[:3] = model.costWeights[0] * x\n",
    "        data.costResiduals[3:5] = model.costWeights[1] * u\n",
    "        data.cost = .5 * sum(data.costResiduals**2)\n",
    "        \n",
    "        return data.xnext, data.cost\n",
    "\n",
    "    def calcDiff(model, data, x, u=None):\n",
    "        if u is None: \n",
    "            u = model.unone\n",
    "            \n",
    "        xnext, cost = model.calc(data, x, u)\n",
    "\n",
    "        ### Cost derivatives\n",
    "        data.L[:] = np.diag([model.costWeights[0]] * model.nx + [model.costWeights[1]] * model.nu)\n",
    "        data.Lx[:] = x * ([model.costWeights[0]**2] * model.nx)\n",
    "        data.Lu[:] = u * ([model.costWeights[1]**2] * model.nu)\n",
    "        np.fill_diagonal(data.Lxx, model.costWeights[0]**2)\n",
    "        np.fill_diagonal(data.Luu, model.costWeights[1]**2)\n",
    "\n",
    "        ### Dynamic derivatives\n",
    "        c, s, dt = np.cos(x[2]), np.sin(x[2]), model.dt\n",
    "        v, w = u\n",
    "        data.Fx[:] = [[1, 0, -s*v*dt],\n",
    "                      [0, 1, c*v*dt],\n",
    "                      [0, 0, 1]]\n",
    "        data.Fu[:] = [[c*model.dt, 0],\n",
    "                      [s*model.dt, 0],\n",
    "                      [0, model.dt]]\n",
    "        \n",
    "        return xnext, cost\n",
    "\n",
    "    \n",
    "class ActionDataUnicycle:\n",
    "    def __init__(self, model):\n",
    "        nx, nu, ncost = model.nx, model.nu, model.ncost\n",
    "        \n",
    "        self.L = np.zeros([nx+nu, nx+nu])\n",
    "        self.g = np.zeros([nx+nu])\n",
    "        self.F = np.zeros([nx,nx+nu])\n",
    "\n",
    "        self.cost = np.nan\n",
    "        self.xnext = np.zeros([nx])\n",
    "        self.costResiduals = np.zeros([ncost])  # Might be use for numdiff (Gauss-Newton appox)\n",
    "\n",
    "        self.Lxx = self.L[:nx, :nx]\n",
    "        self.Lxu = self.L[:nx, nx:]\n",
    "        self.Lux = self.L[nx:, :nx]\n",
    "        self.Luu = self.L[nx:, nx:]\n",
    "        self.Lx = self.g[:nx]\n",
    "        self.Lu = self.g[nx:]\n",
    "        self.Fx = self.F[:, :nx]\n",
    "        self.Fu = self.F[:, nx:]\n",
    "```"
   ]
  },
  {
   "cell_type": "code",
   "execution_count": null,
   "id": "9732cff6",
   "metadata": {},
   "outputs": [],
   "source": [
    "model = crocoddyl.ActionModelUnicycle()\n",
    "data = model.createData()\n",
    "\n",
    "model.costWeights = np.matrix([\n",
    "    10,   # state weight\n",
    "    1    # control weight\n",
    "]).T"
   ]
  },
  {
   "cell_type": "markdown",
   "id": "254a86bb",
   "metadata": {},
   "source": [
    "`crocoddyl.ShootingProblem()`: Declare a shooting problem.\n",
    "\n",
    "A shooting problem declares the initial state, a set of running action models and a terminal action model. It has three main methods - `calc`, `calcDiff` and `rollout`. \n",
    "- `calc()`: computes the set of next states and cost values per each action model. \n",
    "- `calcDiff()`: updates the derivatives of all action models. \n",
    "- `rollout()`: rollouts the stacks of actions models.\n",
    "\n",
    "Init docstring:\n",
    "```python\n",
    "__init__( \n",
    "    (object)self, \n",
    "    (numpy.ndarray)x0, \n",
    "    (StdVec_ActionModel)runningModels, \n",
    "    (ActionModelAbstract)terminalModel\n",
    ") -> None:  # Initialize the shooting problem and allocate its data.\n",
    "    \n",
    "    :param x0: initial state\n",
    "    :param runningModels: running action models (size T)\n",
    "    :param terminalModel: terminal action model\n",
    "```"
   ]
  },
  {
   "cell_type": "code",
   "execution_count": null,
   "id": "30bc586b",
   "metadata": {},
   "outputs": [],
   "source": [
    "x0 = np.matrix([-1., -1., 1.]).T  # x, y, theta\n",
    "T = 20\n",
    "problem = crocoddyl.ShootingProblem(x0, [model] * T, model)"
   ]
  },
  {
   "cell_type": "markdown",
   "id": "0d288c3e",
   "metadata": {},
   "source": [
    "Here we define a problem starting from $\\mathbf{x}_0$ with 20 timesteps (of 0.1 sec by default implementation of unicycle). The terminal action model is defined using the running action model. This defines the model, not any algorithm to solve it. The only computation that the problem can provide is to integrate the system for a given sequence of controls."
   ]
  },
  {
   "cell_type": "code",
   "execution_count": null,
   "id": "5da3e29f",
   "metadata": {},
   "outputs": [],
   "source": [
    "states = []\n",
    "controls = []\n",
    "\n",
    "# Define DDP problem\n",
    "ddp = crocoddyl.SolverDDP(problem)\n",
    "\n",
    "for i in range(100):\n",
    "    # Solve DDP problem\n",
    "    ddp.solve()\n",
    "    \n",
    "    # Get next state\n",
    "    xs = problem.rollout(ddp.us)\n",
    "    \n",
    "    # Set next state to current state\n",
    "    ddp.problem.x0 = xs[1]\n",
    "    \n",
    "    # Store data\n",
    "    states.append(xs[0])\n",
    "    controls.append(ddp.us.tolist()[0])"
   ]
  },
  {
   "cell_type": "markdown",
   "id": "52ea6fbe",
   "metadata": {},
   "source": [
    "### Plot Unicycle Motion"
   ]
  },
  {
   "cell_type": "code",
   "execution_count": null,
   "id": "2eb872a0",
   "metadata": {},
   "outputs": [],
   "source": [
    "def plotUnicycle(x, ax):\n",
    "    sc, delta = .1, .1\n",
    "    a, b, th = x[0].item(), x[1].item(), x[2].item()\n",
    "    c, s = np.cos(th), np.sin(th)\n",
    "    refs = [\n",
    "        ax.arrow(a - sc / 2 * c - delta * s, b - sc / 2 * s + delta * c, c * sc, s * sc, head_width=.05),\n",
    "        ax.arrow(a - sc / 2 * c + delta * s, b - sc / 2 * s - delta * c, c * sc, s * sc, head_width=.05)\n",
    "    ]\n",
    "    return refs\n",
    "\n",
    "\n",
    "def plotUnicycleSolution(xs, figIndex=1, show=True):\n",
    "    fig, ax = plt.subplots(1, 1, figsize=(5, 5))\n",
    "    for x in xs:\n",
    "        plotUnicycle(x, ax)\n",
    "    \n",
    "    ax.axis([-1.5, 0.5, -1.5, 0.5])\n",
    "    ax.grid()\n",
    "    \n",
    "    if show:\n",
    "        plt.show()"
   ]
  },
  {
   "cell_type": "code",
   "execution_count": null,
   "id": "5ed246f8",
   "metadata": {},
   "outputs": [],
   "source": [
    "plotUnicycleSolution(states)"
   ]
  },
  {
   "cell_type": "code",
   "execution_count": null,
   "id": "5e0b9b56",
   "metadata": {},
   "outputs": [],
   "source": [
    "? crocoddyl.CostModelResidual"
   ]
  },
  {
   "cell_type": "code",
   "execution_count": null,
   "id": "33452b48",
   "metadata": {},
   "outputs": [],
   "source": []
  }
 ],
 "metadata": {
  "kernelspec": {
   "display_name": "robot_env",
   "language": "python",
   "name": "robot_env"
  },
  "language_info": {
   "codemirror_mode": {
    "name": "ipython",
    "version": 3
   },
   "file_extension": ".py",
   "mimetype": "text/x-python",
   "name": "python",
   "nbconvert_exporter": "python",
   "pygments_lexer": "ipython3",
   "version": "3.8.10"
  },
  "vscode": {
   "interpreter": {
    "hash": "31f2aee4e71d21fbe5cf8b01ff0e069b9275f58929596ceb00d14d90e3e16cd6"
   }
  }
 },
 "nbformat": 4,
 "nbformat_minor": 5
}
