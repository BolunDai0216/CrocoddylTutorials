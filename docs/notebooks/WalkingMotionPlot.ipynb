{
 "cells": [
  {
   "cell_type": "code",
   "execution_count": 21,
   "id": "8f4d31dd",
   "metadata": {},
   "outputs": [],
   "source": [
    "import matplotlib as mpl\n",
    "import matplotlib.pyplot as plt\n",
    "from matplotlib.ticker import MultipleLocator\n",
    "import numpy as np"
   ]
  },
  {
   "cell_type": "code",
   "execution_count": 3,
   "id": "c35c0c8f",
   "metadata": {},
   "outputs": [],
   "source": [
    "value = {\n",
    "    \"stepLength\": 0.25,\n",
    "    \"stepHeight\": 0.15,\n",
    "    \"timeStep\": 1e-2,\n",
    "    \"stepKnots\": 25,\n",
    "    \"supportKnots\": 2,\n",
    "}"
   ]
  },
  {
   "cell_type": "code",
   "execution_count": 4,
   "id": "4336fc7e",
   "metadata": {},
   "outputs": [],
   "source": [
    "xs = []\n",
    "zs = []\n",
    "\n",
    "for k in range(value[\"stepKnots\"]):\n",
    "    phKnots = value[\"stepKnots\"] / 2\n",
    "    \n",
    "    if k < phKnots:\n",
    "        x = value[\"stepLength\"] * (k + 1) / value[\"stepKnots\"]\n",
    "        z = value[\"stepHeight\"] * k / phKnots\n",
    "    elif k == phKnots:\n",
    "        x = value[\"stepLength\"] * (k + 1) / value[\"stepKnots\"]\n",
    "        z = value[\"stepHeight\"]\n",
    "    else:\n",
    "        x = value[\"stepLength\"] * (k + 1) / value[\"stepKnots\"]\n",
    "        z = value[\"stepHeight\"] * (1 - float(k - phKnots) / phKnots)\n",
    "    \n",
    "    xs.append(x)\n",
    "    zs.append(z)"
   ]
  },
  {
   "cell_type": "code",
   "execution_count": 8,
   "id": "e134a960",
   "metadata": {},
   "outputs": [],
   "source": [
    "com_xs = []\n",
    "com_ys = []\n",
    "comPercentage = 0.25\n",
    "\n",
    "for k in range(value[\"stepKnots\"]):\n",
    "    com_x = (value[\"stepLength\"] * (k + 1) / value[\"stepKnots\"]) * comPercentage\n",
    "    \n",
    "    com_xs.append(com_x)\n",
    "    com_ys.append(0.0)"
   ]
  },
  {
   "cell_type": "code",
   "execution_count": 25,
   "id": "7709bc42",
   "metadata": {},
   "outputs": [],
   "source": [
    "mpl.rcParams['text.usetex'] = True\n",
    "mpl.rcParams['text.latex.preamble'] = r'\\usepackage{amsmath}'\n",
    "plt.rcParams[\"font.size\"] = 12"
   ]
  },
  {
   "cell_type": "code",
   "execution_count": 65,
   "id": "f19127ab",
   "metadata": {},
   "outputs": [
    {
     "data": {
      "image/png": "[encoded data removed]",
      "text/plain": [
       "<Figure size 800x300 with 2 Axes>"
      ]
     },
     "metadata": {},
     "output_type": "display_data"
    }
   ],
   "source": [
    "fig, axs = plt.subplots(1, 2, figsize=(8, 3))\n",
    "\n",
    "axs[0].plot(xs, zs, linewidth=3, color=\"cornflowerblue\")\n",
    "axs[0].set_title(\"Swing Foot Trajectory (in XZ Plane)\", fontsize=12)\n",
    "\n",
    "axs[0].xaxis.set_major_locator(MultipleLocator(0.05))\n",
    "axs[0].xaxis.set_minor_locator(MultipleLocator(0.0125))\n",
    "axs[0].yaxis.set_major_locator(MultipleLocator(0.05))\n",
    "axs[0].yaxis.set_minor_locator(MultipleLocator(0.0125))\n",
    "axs[0].grid(True, \"minor\", color=\"0.85\", linewidth=0.50, zorder=-20)\n",
    "axs[0].grid(True, \"major\", color=\"0.65\", linewidth=0.75, zorder=-10)\n",
    "axs[0].tick_params(which=\"both\", bottom=False, left=False)\n",
    "\n",
    "axs[0].set_xlim([0.0, 0.26])\n",
    "axs[0].set_ylim([-0.01, 0.15])\n",
    "\n",
    "axs[0].set_xlabel(r\"$\\text{X [m]}$\")\n",
    "axs[0].yaxis.set_label_coords(-0.2, 0.5)\n",
    "\n",
    "\n",
    "axs[1].plot(com_xs, com_ys, linewidth=3, color=\"cornflowerblue\")\n",
    "axs[1].set_title(\"CoM Trajectory (in XY Plane)\", fontsize=12)\n",
    "\n",
    "axs[1].xaxis.set_major_locator(MultipleLocator(0.05))\n",
    "axs[1].xaxis.set_minor_locator(MultipleLocator(0.0125))\n",
    "axs[1].yaxis.set_major_locator(MultipleLocator(0.05))\n",
    "axs[1].yaxis.set_minor_locator(MultipleLocator(0.0125))\n",
    "axs[1].grid(True, \"minor\", color=\"0.85\", linewidth=0.50, zorder=-20)\n",
    "axs[1].grid(True, \"major\", color=\"0.65\", linewidth=0.75, zorder=-10)\n",
    "axs[1].tick_params(which=\"both\", bottom=False, left=False)\n",
    "\n",
    "axs[1].set_xlim([-0.01, 0.07])\n",
    "axs[1].set_ylim([-0.04, 0.04])\n",
    "\n",
    "axs[1].set_xlabel(r\"$\\text{X [m]}$\")\n",
    "axs[1].yaxis.set_label_coords(-0.3, 0.5)\n",
    "\n",
    "plt.savefig(\"../imgs/walkingmotion.png\", dpi=200, transparent=False, bbox_inches=\"tight\")"
   ]
  },
  {
   "cell_type": "code",
   "execution_count": null,
   "id": "3d035aef",
   "metadata": {},
   "outputs": [],
   "source": []
  }
 ],
 "metadata": {
  "kernelspec": {
   "display_name": "Python 3 (ipykernel)",
   "language": "python",
   "name": "python3"
  },
  "language_info": {
   "codemirror_mode": {
    "name": "ipython",
    "version": 3
   },
   "file_extension": ".py",
   "mimetype": "text/x-python",
   "name": "python",
   "nbconvert_exporter": "python",
   "pygments_lexer": "ipython3",
   "version": "3.9.12"
  }
 },
 "nbformat": 4,
 "nbformat_minor": 5
}
